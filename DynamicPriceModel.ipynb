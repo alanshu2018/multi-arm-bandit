{
 "cells": [
  {
   "cell_type": "markdown",
   "metadata": {},
   "source": [
    "# 动态定价模型模拟实验"
   ]
  },
  {
   "cell_type": "markdown",
   "metadata": {},
   "source": [
    "## 价格需求模型\n",
    "价格越低，购买的可能性越高。假设价格的选项为30，50，60，70，100，而且最低的购买可能性为100%，最高的可能性为10%，下面计算了中间价格对应的购买可能性"
   ]
  },
  {
   "cell_type": "code",
   "execution_count": 4,
   "metadata": {
    "collapsed": false
   },
   "outputs": [
    {
     "name": "stdout",
     "output_type": "stream",
     "text": [
      "Price\tPercentage\n",
      "30.0\t1.0\n",
      "50.0\t0.728571428571\n",
      "60.0\t0.592857142857\n",
      "70.0\t0.457142857143\n",
      "100.0\t0.05\n",
      "[30.0, 50.0, 60.0, 70.0, 100.0]\n",
      "[1.0, 0.7285714285714286, 0.5928571428571429, 0.4571428571428572, 0.050000000000000044]\n"
     ]
    },
    {
     "data": {
      "image/png": "[encoded data removed]",
      "text/plain": [
       "<matplotlib.figure.Figure at 0x7fa2a22eb450>"
      ]
     },
     "metadata": {},
     "output_type": "display_data"
    },
    {
     "name": "stdout",
     "output_type": "stream",
     "text": [
      "\n",
      "Test price and rewards\n",
      "Price\tReward\n",
      "70.0\t0.0\n",
      "100.0\t0.0\n",
      "50.0\t0.0\n",
      "30.0\t0.0\n",
      "30.0\t0.0\n"
     ]
    }
   ],
   "source": [
    "import numpy as np\n",
    "\n",
    "class LinearPriceModel(object):\n",
    "    def __init__(self, start_percent, end_percent, prices):\n",
    "        self.start_percent = start_percent\n",
    "        self.end_percent = end_percent\n",
    "        self.prices = prices\n",
    "        \n",
    "        self.start_price = self.prices[0]\n",
    "        self.end_price = self.prices[-1]\n",
    "        \n",
    "        self.delta_price = self.prices[-1] - self.prices[0] #end_price - start_price\n",
    "        #_, percentages = self.linear_price_model(self.start_percent,self.end_percent,self.prices)\n",
    "        #self.percentages = percentages\n",
    "        \n",
    "    def get_demand_prob(self,price):\n",
    "        return self.start_percent + \\\n",
    "            float(self.end_percent - self.start_percent) * (price - self.start_price)/self.delta_price\n",
    "    \n",
    "    def get_reward(self, price):\n",
    "        # Given price, decide whether user will buy it or not\n",
    "        # Return the reward, zero or the given price\n",
    "        prob = self.get_demand_prob(price)/100.0\n",
    "        r = np.random.rand()\n",
    "        #print(\"r={},p={}\".format(prob,r))\n",
    "        if r < prob:\n",
    "            return price\n",
    "        return 0.0\n",
    "    \n",
    "class ManualPriceModel(object):\n",
    "    def __init__(self, prices, probs):\n",
    "        self.prices = prices\n",
    "        self.probs = probs\n",
    "        \n",
    "    def get_demand_prob(self,price):\n",
    "        for p, prob in zip(self.prices, self.probs):\n",
    "            #print(\"p={},prob={},price={}\".format(p,prob,price))\n",
    "            if p == price:\n",
    "                return prob\n",
    "        return 0.0\n",
    "    \n",
    "    def get_reward(self, price):\n",
    "        # Given price, decide whether user will buy it or not\n",
    "        # Return the reward, zero or the given price\n",
    "        prob = self.get_demand_prob(price)/100.0\n",
    "        r = np.random.rand()\n",
    "        #print(\"r={},p={}\".format(prob,r))\n",
    "        if r < prob:\n",
    "            return price\n",
    "        return 0.0\n",
    "\n",
    "prices = [30.0,50.0,60.0,70.0,100.0]\n",
    "m_probs = [10,8,5,2,0.1]\n",
    "linear_model = LinearPriceModel(1, 0.05, prices)\n",
    "manual_model = ManualPriceModel(prices,m_probs)\n",
    "\n",
    "price_model = manual_model\n",
    "price_model = linear_model\n",
    "\n",
    "print(\"Price\\tPercentage\")\n",
    "for price in prices:\n",
    "    percentage = linear_model.get_demand_prob(price)\n",
    "    print(\"{}\\t{}\".format(price,percentage))\n",
    "    \n",
    "# Visualize Demand Price Model: Price and Prob\n",
    "probs = [price_model.get_demand_prob(price) for price in prices]\n",
    "print(prices)\n",
    "print(probs)\n",
    "import matplotlib.pyplot as plt\n",
    "\n",
    "%matplotlib inline\n",
    "\n",
    "def show_price_model(prices,probs):\n",
    "    global plt\n",
    "    #plt.tilte('Price Demand Mode')\n",
    "    plt.xlabel(u'Price')  \n",
    "    plt.ylabel(u'Prob(100%)')\n",
    "    idxes = range(len(prices))\n",
    "    plt.plot(prices,probs,r'r--')\n",
    "    plt.show()\n",
    "\n",
    "show_price_model(prices,probs)\n",
    "\n",
    "class RandomPricePolicy(object):\n",
    "    def __init__(self, prices):\n",
    "        self.prices = prices\n",
    "    \n",
    "    def get_price(self):\n",
    "        price = np.random.choice(prices)\n",
    "        return price\n",
    "    \n",
    "np.random.seed(1024) \n",
    "random_policy = RandomPricePolicy(prices)\n",
    "print(\"\\nTest price and rewards\")\n",
    "print(\"Price\\tReward\")\n",
    "for _ in range(5):\n",
    "    price = random_policy.get_price()\n",
    "    reward = linear_model.get_reward(price)\n",
    "    print(\"{}\\t{}\".format(price,reward))\n",
    "    "
   ]
  },
  {
   "cell_type": "markdown",
   "metadata": {},
   "source": [
    "## 随机定价策略\n",
    "\n",
    "针对每个到来的用户，随机给定一个价格，并且按照上面的价格需求模型，计算最后的利润。\n",
    "下面模拟一共10万个用户，计算它的平均利润"
   ]
  },
  {
   "cell_type": "code",
   "execution_count": 5,
   "metadata": {
    "collapsed": false
   },
   "outputs": [
    {
     "name": "stdout",
     "output_type": "stream",
     "text": [
      "Total rewards:28480.0, Total_users:100000, Average Reward:0.2848\n"
     ]
    },
    {
     "data": {
      "image/png": "[encoded data removed]",
      "text/plain": [
       "<matplotlib.figure.Figure at 0x7fa276748e90>"
      ]
     },
     "metadata": {},
     "output_type": "display_data"
    }
   ],
   "source": [
    "\n",
    "    \n",
    "np.random.seed(1024) \n",
    "\n",
    "random_policy = RandomPricePolicy(prices)\n",
    "\n",
    "total_users = 100000\n",
    "total_rewards = 0.0\n",
    "given_prices = []\n",
    "receive_rewards = []\n",
    "for _ in range(total_users):\n",
    "    price = random_policy.get_price() \n",
    "    #total_rewards += linear_model.get_reward(price)\n",
    "    reward = price_model.get_reward(price)\n",
    "    total_rewards += reward\n",
    "    given_prices.append(price)\n",
    "    receive_rewards.append(reward)\n",
    "    \n",
    "avg_rewards = total_rewards / total_users\n",
    "print(\"Total rewards:{}, Total_users:{}, Average Reward:{}\".format(total_rewards, total_users, avg_rewards))\n",
    "\n",
    "# Visualize reward and Price\n",
    "def show_reward_price(prices,rewards):\n",
    "    global plt\n",
    "    #plt.tilte('Price Demand Mode')\n",
    "    plt.xlabel(u'Time')  \n",
    "    plt.ylabel(u'Price/Reward')\n",
    "    idxes = range(len(prices))\n",
    "    plt.plot(idxes,prices,'^',idxes,rewards,'v')\n",
    "    plt.show()\n",
    "\n",
    "show_reward_price(given_prices,receive_rewards)"
   ]
  },
  {
   "cell_type": "markdown",
   "metadata": {},
   "source": [
    "## episilon-greedy策略\n"
   ]
  },
  {
   "cell_type": "code",
   "execution_count": 6,
   "metadata": {
    "collapsed": false
   },
   "outputs": [
    {
     "name": "stdout",
     "output_type": "stream",
     "text": [
      "Total rewards:36820.0, Total_users:100000, Average Reward:0.3682\n"
     ]
    },
    {
     "data": {
      "image/png": "[encoded data removed]",
      "text/plain": [
       "<matplotlib.figure.Figure at 0x7fa276588a50>"
      ]
     },
     "metadata": {},
     "output_type": "display_data"
    }
   ],
   "source": [
    "class GreedyPricePolicy(object):\n",
    "    def __init__(self, prices, epsilon=0.1):\n",
    "        self.prices = prices\n",
    "        self.epsilon = epsilon\n",
    "        \n",
    "        self.rewards = [] #总回报\n",
    "        self.nums = [] # 出价次数\n",
    "        self.total_num = 0\n",
    "        \n",
    "        for idx, price in enumerate(prices):\n",
    "            self.rewards.append(0.0)\n",
    "            self.nums.append(0)\n",
    "            \n",
    "    def get_avg_reward(self, idx):\n",
    "        num = self.nums[idx]\n",
    "        reward = self.rewards[idx]\n",
    "        \n",
    "        if num <=0:\n",
    "            avg = 0.0 #set maximum price\n",
    "        else:\n",
    "            avg = float(reward) / float(num)\n",
    "            \n",
    "        return avg \n",
    "    \n",
    "    def get_price(self):\n",
    "        r = np.random.rand()\n",
    "        #print(\"r={},epsilon={}\".format(r,self.epsilon))\n",
    "        if r < self.epsilon:\n",
    "            idx = np.random.choice(range(len(self.prices)))\n",
    "            price = self.prices[idx]\n",
    "            #print(\"idx={},price={}\".format(idx,price))\n",
    "            return price, idx\n",
    "        \n",
    "        # set one of random\n",
    "        max_idx = np.random.choice(range(len(self.prices)))\n",
    "        # Find max avg\n",
    "        max_avg = self.get_avg_reward(max_idx)\n",
    "        for idx, price in enumerate(self.prices):\n",
    "            avg = self.get_avg_reward(idx)\n",
    "            #print(\"idx={},price={},avg={}\".format(idx,price,avg))\n",
    "            if avg > max_avg:\n",
    "                max_avg = avg\n",
    "                max_idx = idx\n",
    "                #print(\"==>max_reward={},max_idx={},price={}\".format(max_avg,max_idx,price))\n",
    "        price = self.prices[max_idx]\n",
    "        #print(\"max_reward={},max_idx={},price={}\".format(max_avg,max_idx,price))\n",
    "        return price, max_idx\n",
    "    \n",
    "    def report_reward(self, idx, reward):\n",
    "        #print(\"Report:idx={},reward={}\".format(idx,reward))\n",
    "        self.nums[idx] += 1\n",
    "        self.total_num += 1\n",
    "        self.rewards[idx] += reward\n",
    "        \n",
    "\n",
    "np.random.seed(1024) \n",
    "\n",
    "greedy_policy = GreedyPricePolicy(prices)\n",
    "\n",
    "total_users = 100000\n",
    "total_rewards = 0.0\n",
    "receive_rewards=[]\n",
    "given_prices=[]\n",
    "for _ in range(total_users):\n",
    "    price,idx = greedy_policy.get_price() \n",
    "    \n",
    "    #reward = linear_model.get_reward(price)\n",
    "    reward = price_model.get_reward(price)\n",
    "    total_rewards += reward\n",
    "    \n",
    "    greedy_policy.report_reward(idx, reward)\n",
    "    receive_rewards.append(reward)\n",
    "    given_prices.append(price)\n",
    "    \n",
    "avg_rewards = total_rewards / total_users\n",
    "print(\"Total rewards:{}, Total_users:{}, Average Reward:{}\".format(total_rewards, total_users, avg_rewards))\n",
    "\n",
    "# Visualize reward and Price\n",
    "\n",
    "show_reward_price(given_prices,receive_rewards)"
   ]
  },
  {
   "cell_type": "markdown",
   "metadata": {},
   "source": [
    "## UCB定价策略\n",
    "每次选择ucb值最大的价格，ucb值定义为如下:\n",
    "\n",
    " $ucb = avg\\_reward + sqrt(2*ln(n)/n_i)$\n",
    " \n",
    "这里可能用到一个计算平均值的技巧： \n",
    "    $\\bar{x} = x_k / k + \\frac{(k-1)*\\bar{x}_{k-1}}{k} $ "
   ]
  },
  {
   "cell_type": "code",
   "execution_count": 7,
   "metadata": {
    "collapsed": false
   },
   "outputs": [
    {
     "name": "stdout",
     "output_type": "stream",
     "text": [
      "Total rewards:37980.0, Total_users:100000, Average Reward:0.3798\n"
     ]
    },
    {
     "data": {
      "image/png": "[encoded data removed]",
      "text/plain": [
       "<matplotlib.figure.Figure at 0x7fa2a22d4a50>"
      ]
     },
     "metadata": {},
     "output_type": "display_data"
    }
   ],
   "source": [
    "class UCBPricePolicy(object):\n",
    "    def __init__(self, prices):\n",
    "        self.prices = prices\n",
    "        \n",
    "        self.rewards = [] #总回报\n",
    "        self.nums = [] # 出价次数\n",
    "        self.total_num = 0\n",
    "        \n",
    "        for idx, price in enumerate(prices):\n",
    "            self.rewards.append(0.0)\n",
    "            self.nums.append(0)\n",
    "            \n",
    "    def get_ucb(self, idx):\n",
    "        num = self.nums[idx]\n",
    "        reward = self.rewards[idx]\n",
    "        \n",
    "        if num <=0:\n",
    "            ucb = self.prices[-1] #set maximum price\n",
    "        else:\n",
    "            avg_reward = float(reward) / float(num)\n",
    "            ucb = avg_reward\n",
    "            ucb += np.sqrt(2*np.log(self.total_num)/float(num))\n",
    "            \n",
    "        return ucb \n",
    "    \n",
    "    def get_price(self):\n",
    "        # Find max ucb\n",
    "        max_ucb = 0.0\n",
    "        # set one of random\n",
    "        max_idx = np.random.choice(range(len(self.prices)))\n",
    "        for idx, price in enumerate(self.prices):\n",
    "            ucb = self.get_ucb(idx)\n",
    "            #print(\"idx={},price={},ucb={}\".format(idx,price,ucb))\n",
    "            if ucb > max_ucb:\n",
    "                max_ucb = ucb\n",
    "                max_idx = idx\n",
    "        #print(\"max_ucb={},max_idx={}\".format(max_ucb,max_idx))\n",
    "        price = self.prices[max_idx]\n",
    "        return price, max_idx\n",
    "    \n",
    "    def report_reward(self, idx, reward):\n",
    "        #print(\"Report:idx={},reward={}\".format(idx,reward))\n",
    "        self.nums[idx] += 1\n",
    "        self.total_num += 1\n",
    "        self.rewards[idx] += reward\n",
    "    \n",
    "np.random.seed(1024) \n",
    "\n",
    "ucb_policy = UCBPricePolicy(prices)\n",
    "\n",
    "total_users = 100000\n",
    "total_rewards = 0.0\n",
    "rewards=[]\n",
    "given_prices=[]\n",
    "for _ in range(total_users):\n",
    "    price,idx = ucb_policy.get_price() \n",
    "    \n",
    "    #reward = linear_model.get_reward(price)\n",
    "    reward = price_model.get_reward(price)\n",
    "    total_rewards += reward\n",
    "    \n",
    "    ucb_policy.report_reward(idx, reward)\n",
    "    rewards.append(reward)\n",
    "    given_prices.append(price)\n",
    "    \n",
    "avg_rewards = total_rewards / total_users\n",
    "print(\"Total rewards:{}, Total_users:{}, Average Reward:{}\".format(total_rewards, total_users, avg_rewards))\n",
    "\"\"\"\n",
    "for i in range(20):\n",
    "    r = rewards[-i]\n",
    "    p = given_prices[-i]\n",
    "    print(\"{}\\t{}\".format(p,r))\n",
    "\"\"\"\n",
    "# Visualize reward and Price\n",
    "show_reward_price(given_prices,rewards)"
   ]
  },
  {
   "cell_type": "markdown",
   "metadata": {},
   "source": [
    "# UCB2算法\n",
    "针对UCB1算法的改进。UCB1的缺点（1）最开始时置信区间波动比较大，经常选中比较差的item；  （2）所有item都要测试一遍，item数目较多时，比较浪费成本。\n",
    "\n",
    "\n",
    "算法如下：下面代码循环\n",
    "\n",
    "1）选择一个机器j, 使得 $\\bar{x_j} + a_{n,r_j}$ 值最小，其中n为总实验次数，$a_{n,r_j}$定义为：$a_{n,r_j} = \\sqrt{\\frac{(1+\\alpha)*ln(n/\\tau{(r_j)})}{2*\\tau{(r_j)}}}$. $\\tau{(r)}= \\lceil (1+\\alpha)^r \\rfloor$\n",
    "\n",
    " \n",
    "2) 选择机器j $\\tau{(r_j + 1)} - \\tau{(r_j)}$次\n",
    "\n",
    "3）$r_j = r_j + 1$"
   ]
  },
  {
   "cell_type": "code",
   "execution_count": 22,
   "metadata": {
    "collapsed": false
   },
   "outputs": [
    {
     "name": "stdout",
     "output_type": "stream",
     "text": [
      "Total rewards:16190.0, Total_users:50000, Average Reward:0.3238\n"
     ]
    },
    {
     "name": "stderr",
     "output_type": "stream",
     "text": [
      "/home/clickwise/miniconda2/lib/python2.7/site-packages/ipykernel/__main__.py:40: RuntimeWarning: invalid value encountered in sqrt\n"
     ]
    },
    {
     "data": {
      "image/png": "[encoded data removed]",
      "text/plain": [
       "<matplotlib.figure.Figure at 0x7fa276113cd0>"
      ]
     },
     "metadata": {},
     "output_type": "display_data"
    }
   ],
   "source": [
    "import math\n",
    "import numpy as np\n",
    "\n",
    "class UCB2PricePolicy(object):\n",
    "    def __init__(self, prices):\n",
    "        self.prices = prices\n",
    "        \n",
    "        self.state = 0 # 0 --- select, 1 ---- previous 3---\n",
    "        \n",
    "        self.alpha = 0.1\n",
    "        # when in preivous(1) state, keep try some times\n",
    "        self.tries = 0\n",
    "        self.keep_idx = 0\n",
    "        self.keep_price = 0.0\n",
    "        self.max_tries = 0\n",
    "        \n",
    "        self.rewards = [] #总回报\n",
    "        self.nums = [] # 出价次数\n",
    "        self.rs = [] #  \n",
    "        self.total_num = 0\n",
    "        \n",
    "        for idx, price in enumerate(prices):\n",
    "            self.rewards.append(0.0)\n",
    "            self.nums.append(0)\n",
    "            self.rs.append(0)\n",
    "            \n",
    "    def tau(self, r):\n",
    "        return int(math.pow(1+self.alpha,r))\n",
    "    \n",
    "    def get_ucb(self, idx):\n",
    "        r = self.rs[idx]\n",
    "        num = self.nums[idx]\n",
    "        reward = self.rewards[idx]\n",
    "        tau = self.tau(r)\n",
    "        if num <=0: \n",
    "            ucb = np.sqrt((1+self.alpha)*np.log(math.e*(self.total_num+1.0)/tau)/float(2.0*tau))\n",
    "        else:\n",
    "            avg_reward = float(reward) / float(num)\n",
    "            ucb = avg_reward\n",
    "            delta= np.sqrt((1+self.alpha)*np.log(math.e*(self.total_num+1.0)/tau)/float(2.0*tau))\n",
    "            ucb += delta\n",
    "            #print(\"idx={},price={},ucb={},tau={},delta={},avg={},r={}\".format(idx,self.prices[idx],ucb,tau,delta,avg_reward,r))\n",
    "        return ucb \n",
    "    \n",
    "    def get_price(self):          \n",
    "        if self.state == 1:\n",
    "            if self.tries < self.max_tries:\n",
    "                self.tries += 1\n",
    "                #print(\"Keep:idx={},price={},max_tries={},tries={}\".format(self.keep_idx,self.keep_price,self.max_tries, self.tries))\n",
    "                return self.keep_price, self.keep_idx\n",
    "            \n",
    "            self.rs[self.keep_idx] += 1\n",
    "            #go to state 0\n",
    "            self.state = 0\n",
    "            \n",
    "        if self.state == 0:\n",
    "            # select machine with biggest ucb\n",
    "            # Find max ucb\n",
    "            #max_ucb = 0.0\n",
    "            # set one of random\n",
    "            max_idx = np.random.choice(range(len(self.prices)))\n",
    "            max_ucb = self.get_ucb(max_idx)\n",
    "            for idx, price in enumerate(self.prices):\n",
    "                ucb = self.get_ucb(idx)\n",
    "                #print(\"idx={},price={},ucb={}\".format(idx,price,ucb))\n",
    "                if ucb > max_ucb:\n",
    "                    max_ucb = ucb\n",
    "                    max_idx = idx\n",
    "            #print(\"***max_ucb={},max_idx={},price={}\".format(max_ucb,max_idx,self.prices[max_idx]))\n",
    "            #Enter into state 1\n",
    "            self.state = 1\n",
    "            self.tries = 0\n",
    "            self.keep_idx = max_idx\n",
    "            price = self.prices[max_idx]\n",
    "            self.keep_price = price\n",
    "            \n",
    "            r = self.rs[max_idx]\n",
    "            self.max_tries = max(min(self.tau(r+1) - self.tau(r),20),0)\n",
    "            #print(\"Keep:idx={},price={},max_tries={},tries={}\".format(self.keep_idx,self.keep_price,self.max_tries, self.tries))\n",
    "            \n",
    "            return price, max_idx\n",
    "    \n",
    "    def report_reward(self, idx, reward):\n",
    "        #print(\"Report:idx={},reward={}\".format(idx,reward))\n",
    "        self.nums[idx] += 1\n",
    "        self.total_num += 1\n",
    "        self.rewards[idx] += reward\n",
    "    \n",
    "np.random.seed(1024) \n",
    "\n",
    "ucb_policy = UCB2PricePolicy(prices)\n",
    "\n",
    "total_users = 50000\n",
    "total_rewards = 0.0\n",
    "rewards=[]\n",
    "given_prices=[]\n",
    "for _ in range(total_users):\n",
    "    price,idx = ucb_policy.get_price() \n",
    "    \n",
    "    #reward = linear_model.get_reward(price)\n",
    "    reward = price_model.get_reward(price)\n",
    "    total_rewards += reward\n",
    "    \n",
    "    ucb_policy.report_reward(idx, reward)\n",
    "    rewards.append(reward)\n",
    "    given_prices.append(price)\n",
    "    \n",
    "avg_rewards = total_rewards / total_users\n",
    "print(\"Total rewards:{}, Total_users:{}, Average Reward:{}\".format(total_rewards, total_users, avg_rewards))\n",
    "\"\"\"\n",
    "for i in range(20):\n",
    "    r = rewards[-i]\n",
    "    p = given_prices[-i]\n",
    "    print(\"{}\\t{}\".format(p,r))\n",
    "\"\"\"\n",
    "#print(given_prices)\n",
    "# Visualize reward and Price\n",
    "show_reward_price(given_prices,rewards)"
   ]
  }
 ],
 "metadata": {
  "kernelspec": {
   "display_name": "Python 2",
   "language": "python",
   "name": "python2"
  },
  "language_info": {
   "codemirror_mode": {
    "name": "ipython",
    "version": 2
   },
   "file_extension": ".py",
   "mimetype": "text/x-python",
   "name": "python",
   "nbconvert_exporter": "python",
   "pygments_lexer": "ipython2",
   "version": "2.7.13"
  }
 },
 "nbformat": 4,
 "nbformat_minor": 0
}
